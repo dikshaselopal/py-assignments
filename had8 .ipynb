{
  "nbformat": 4,
  "nbformat_minor": 0,
  "metadata": {
    "colab": {
      "name": "Untitled3.ipynb",
      "provenance": [],
      "authorship_tag": "ABX9TyOuURwVYlQmiZpCLZWWb4HP",
      "include_colab_link": true
    },
    "kernelspec": {
      "name": "python3",
      "display_name": "Python 3"
    }
  },
  "cells": [
    {
      "cell_type": "markdown",
      "metadata": {
        "id": "view-in-github",
        "colab_type": "text"
      },
      "source": [
        "<a href=\"https://colab.research.google.com/github/dikshaselopal/py-assignments/blob/master/had8%20.ipynb\" target=\"_parent\"><img src=\"https://colab.research.google.com/assets/colab-badge.svg\" alt=\"Open In Colab\"/></a>"
      ]
    },
    {
      "cell_type": "code",
      "metadata": {
        "id": "jXT-tDjg_GhZ",
        "colab_type": "code",
        "colab": {}
      },
      "source": [
        "#HAD-8 Q1 Write a program that generates and prints 50 random integers, each between 3 and 6\n",
        "import random\n",
        "end=\" \"\n",
        "for i in range(50):\n",
        "  computer=random.randint(3,6)\n",
        "  print(computer , end=\" \")\n",
        "\n",
        "#HAD-8 Q2 Write a program that generates a random number, x, between 1 and 50, a random number y between 2 and 5, and computes xy.\n",
        "import random\n",
        "x=random.randint(1,50)\n",
        "print(x)\n",
        "y=random.randint(2,5)\n",
        "print(y)\n",
        "print(x*y)\n",
        "\n",
        "#HAD-8 Q3##Write a program that generates a random decimal number between 1 and 10 with two decimal places of accuracy. Examples are 1.23, 3.45, 9.80, and 5.00.\n",
        " will ask to teacher\n",
        "\n",
        "#HAD-8 Q4 Write a program that asks the user for a number of seconds and prints out how many minutes and seconds that is. For instance, 200 seconds is 3 minutes and 20 seconds.\n",
        "##[Hint: Use the // operator to get minutes and the % operator to get seconds.]\n",
        "import math\n",
        "x=int(input(\"enter a number: \"))\n",
        "y=(x//60)\n",
        "z=(x%60)\n",
        "print(str(y)+\"minutes \"+\"and \"+str(z)+\"seconds\")\n",
        "\n"
      ],
      "execution_count": 0,
      "outputs": []
    }
  ]
}