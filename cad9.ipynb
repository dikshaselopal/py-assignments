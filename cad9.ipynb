{
  "nbformat": 4,
  "nbformat_minor": 0,
  "metadata": {
    "colab": {
      "name": "Untitled4.ipynb",
      "provenance": [],
      "authorship_tag": "ABX9TyOpsxt50qlW4CdDm1no/j8e",
      "include_colab_link": true
    },
    "kernelspec": {
      "name": "python3",
      "display_name": "Python 3"
    }
  },
  "cells": [
    {
      "cell_type": "markdown",
      "metadata": {
        "id": "view-in-github",
        "colab_type": "text"
      },
      "source": [
        "<a href=\"https://colab.research.google.com/github/dikshaselopal/py-assignments/blob/master/cad9.ipynb\" target=\"_parent\"><img src=\"https://colab.research.google.com/assets/colab-badge.svg\" alt=\"Open In Colab\"/></a>"
      ]
    },
    {
      "cell_type": "code",
      "metadata": {
        "id": "JdRllN3XCSpL",
        "colab_type": "code",
        "colab": {}
      },
      "source": [
        "userinput=int(input(\"enter the length in centimeters: \"))\n",
        "if(userinput<0):\n",
        "    print(\"entry is invalid\")\n",
        "else:\n",
        "    print(userinput*2.54)\n",
        "\n"
      ],
      "execution_count": 0,
      "outputs": []
    },
    {
      "cell_type": "code",
      "metadata": {
        "id": "wLD9bFo-H3Ze",
        "colab_type": "code",
        "colab": {}
      },
      "source": [
        "import random\n",
        "userinput=input(\"enter a number to guess: \")\n",
        "computernumber=random.randint(1,10)\n",
        "print(computernumber)\n",
        "if(userinput==computernumber):\n",
        "    print(\"your guess is right\")\n",
        "else:\n",
        "    print(\"your guess is wrong\")"
      ],
      "execution_count": 0,
      "outputs": []
    }
  ]
}