{
  "nbformat": 4,
  "nbformat_minor": 0,
  "metadata": {
    "colab": {
      "name": "Untitled3.ipynb",
      "provenance": [],
      "authorship_tag": "ABX9TyOvCKCM1C9tw91jsxS1XaZ9",
      "include_colab_link": true
    },
    "kernelspec": {
      "name": "python3",
      "display_name": "Python 3"
    }
  },
  "cells": [
    {
      "cell_type": "markdown",
      "metadata": {
        "id": "view-in-github",
        "colab_type": "text"
      },
      "source": [
        "<a href=\"https://colab.research.google.com/github/dikshaselopal/py-assignments/blob/master/had6.ipynb\" target=\"_parent\"><img src=\"https://colab.research.google.com/assets/colab-badge.svg\" alt=\"Open In Colab\"/></a>"
      ]
    },
    {
      "cell_type": "code",
      "metadata": {
        "id": "pwfVFkeIBtJ3",
        "colab_type": "code",
        "colab": {}
      },
      "source": [
        "EXECUTE THE COMMAND PRINT \"DOUBLE QUOTES\"\n",
        "PRINT \"SINGLE QUOTES\"\n",
        "PRINT ''' MULTILINE'''\n",
        "STRING1='HELLO WORLD'\n",
        "STRING2= \"WE'RE HERE#1!\"\n",
        "STRING3='1234'\n",
        "STRING4=\"I SAID, \"PULL IT OVER BY THE LLAMMA\"\n",
        "NUMBER = 12\n",
        "FLOAT = 3.14\n",
        "In [1]:\n",
        "##PRINTING WITH DOUBLE QUOTES\n",
        "print (\"DOUBLE QUOTES\")\n",
        "DOUBLE QUOTES\n",
        "In [2]:\n",
        "##printing with single quotes\n",
        "print('single quotes')\n",
        "single quotes\n",
        "In [3]:\n",
        "##printing with triple quotes in multiple line\n",
        "print('''\n",
        "hii\n",
        "i m\n",
        "using multiline''')\n",
        "hii\n",
        "i m\n",
        "using multiline\n",
        "In [4]:\n",
        "##printing a string with single quotes\n",
        "string1='HELLO WORLD'\n",
        "print(string1)\n",
        "HELLO WORLD\n",
        "In [5]:\n",
        "##printing a string containing numbers\n",
        "string2='1234'\n",
        "print(string2)\n",
        "1234\n",
        "In [6]:\n",
        "##printing a string containing \"WE'RE HERE#1!\n",
        "string3=\"WE'RE HERE#1!\"\n",
        "print(string3)\n",
        "WE'RE HERE#1!\n",
        "In [7]:\n",
        "##printing a string containing 'I SAID, \"PULL IT OVER BY THE LLAMMA\"'\n",
        "string4=''' 'I SAID, \"PULL IT OVER BY THE LLAMMA\"' '''\n",
        "print(string4)\n",
        " 'I SAID, \"PULL IT OVER BY THE LLAMMA\"' \n",
        "In [8]:\n",
        "##printing a number12\n",
        "number= 12\n",
        "print(number)\n",
        "12\n",
        "In [9]:\n",
        "##printing a float 3.14\n",
        "float= 3.14\n",
        "print(float)\n",
        "3.14\n",
        "In [0]:\n",
        "USING TYPE() TO CHECK THE DATATYPE OF THE CREATED VARIABLE\n",
        "In [0]:\n",
        "age = 3.14\n",
        "print( type( age ))\n",
        "In [0]:\n",
        "**EXECUTE THE FOLLOWING\n",
        "MOVIES=['AVENGER','SPIDERMAN','SUPERMAN']\n",
        "MOVIES=('AVENGER','SPIDERMAN','SUPERMAN')**\n",
        "In [37]:\n",
        "##PRINTING THE CODE USING LIST AND TUPLE\n",
        "movies_list=['AVENGER','SPIDERMAN','SUPERMAN']\n",
        "movies_tuple=('AVENGER','SPIDERMAN','SUPERMAN')\n",
        "print(movies_list)\n",
        "print(movies_tuple)\n",
        "['AVENGER', 'SPIDERMAN', 'SUPERMAN']\n",
        "('AVENGER', 'SPIDERMAN', 'SUPERMAN')"
      ],
      "execution_count": 0,
      "outputs": []
    }
  ]
}